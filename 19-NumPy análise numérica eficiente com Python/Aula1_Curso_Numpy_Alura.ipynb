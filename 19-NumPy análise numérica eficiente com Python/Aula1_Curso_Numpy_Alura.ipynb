{
  "nbformat": 4,
  "nbformat_minor": 0,
  "metadata": {
    "colab": {
      "provenance": []
    },
    "kernelspec": {
      "name": "python3",
      "display_name": "Python 3"
    },
    "language_info": {
      "name": "python"
    }
  },
  "cells": [
    {
      "cell_type": "markdown",
      "source": [
        "# NUMPY - ALURA"
      ],
      "metadata": {
        "id": "5c9ayjZJ7DNs"
      }
    },
    {
      "cell_type": "markdown",
      "source": [
        "A NumPy é uma biblioteca em Python que oferece diversas ferramentas e funcionalidades essenciais para computação científica, incluindo objetos de matriz multidimensional chamados de arrays, rotinas para operações rápidas em matrizes, além de operações matemáticas, manipulação de forma, estatísticas e muito mais. É amplamente utilizado em áreas como análise de dados, processamento de sinais e aprendizado de máquina.\n",
        "\n",
        "Mais conteúdo sobre as suas funcionalidades pode ser acessado no link: https://numpy.org/devdocs/index.html"
      ],
      "metadata": {
        "id": "CoV6x9Bv-Z7N"
      }
    },
    {
      "cell_type": "markdown",
      "source": [
        "# Aula 1"
      ],
      "metadata": {
        "id": "DlIXhhP4kpXs"
      }
    },
    {
      "cell_type": "markdown",
      "source": [
        "## Vídeo 1.3 - Carregando dados"
      ],
      "metadata": {
        "id": "jf_9eE4NwKA4"
      }
    },
    {
      "cell_type": "markdown",
      "source": [
        "A versão original da base de dados utilizada neste curso pode encontrada neste [link](https://www.kaggle.com/datasets/kapatsa/apple-prices-in-russian-regions) onde você pode ler um pouco mais sobre o problema e questões em potencial relacionadas a estes dados. \n",
        "\n",
        "\n",
        "Porém, neste curso será utilizada uma versão modificada disponível neste [link](https://github.com/alura-cursos/numpy/blob/dados/apples_ts.csv). O link para a versão Raw do arquivo repositório do Github é este: https://raw.githubusercontent.com/alura-cursos/numpy/dados/apples_ts.csv . "
      ],
      "metadata": {
        "id": "OrzRD1HjklCD"
      }
    },
    {
      "cell_type": "code",
      "execution_count": null,
      "metadata": {
        "id": "LvhSkBLokSwp"
      },
      "outputs": [],
      "source": [
        "import numpy as np"
      ]
    },
    {
      "cell_type": "code",
      "source": [
        "url = 'https://raw.githubusercontent.com/alura-cursos/numpy/dados/apples_ts.csv'"
      ],
      "metadata": {
        "id": "tkOiG4uvMoHQ"
      },
      "execution_count": null,
      "outputs": []
    },
    {
      "cell_type": "code",
      "source": [
        "np.arange(1,88,1)"
      ],
      "metadata": {
        "id": "woiZe2_Ql8eM"
      },
      "execution_count": null,
      "outputs": []
    },
    {
      "cell_type": "code",
      "source": [
        "7*12+3"
      ],
      "metadata": {
        "id": "HFAQ7N1ltVZH"
      },
      "execution_count": null,
      "outputs": []
    },
    {
      "cell_type": "code",
      "source": [
        "dado = np.loadtxt(url,delimiter=',',usecols=np.arange(1,88,1))"
      ],
      "metadata": {
        "id": "31bbVYEZkcf8"
      },
      "execution_count": null,
      "outputs": []
    },
    {
      "cell_type": "markdown",
      "source": [
        "## Vídeo 1.4 - Dimensões do array"
      ],
      "metadata": {
        "id": "m1ugXa_NwXIZ"
      }
    },
    {
      "cell_type": "code",
      "source": [
        "dado.ndim"
      ],
      "metadata": {
        "id": "OacarG2Uy8Iq"
      },
      "execution_count": null,
      "outputs": []
    },
    {
      "cell_type": "code",
      "source": [
        "dado.size"
      ],
      "metadata": {
        "id": "rwPNvctqzA7Z"
      },
      "execution_count": null,
      "outputs": []
    },
    {
      "cell_type": "code",
      "source": [
        "dado.shape"
      ],
      "metadata": {
        "id": "Eugn3BoPt9s2"
      },
      "execution_count": null,
      "outputs": []
    },
    {
      "cell_type": "markdown",
      "source": [
        "### Transposição do array"
      ],
      "metadata": {
        "id": "bBCStF7k_wjy"
      }
    },
    {
      "cell_type": "code",
      "source": [
        "dado.T"
      ],
      "metadata": {
        "id": "cZgJMqEswc8_"
      },
      "execution_count": null,
      "outputs": []
    },
    {
      "cell_type": "code",
      "source": [
        "dado.T.shape"
      ],
      "metadata": {
        "id": "rYf7idhVwfXo"
      },
      "execution_count": null,
      "outputs": []
    },
    {
      "cell_type": "code",
      "source": [
        "dado_transposto = dado.T"
      ],
      "metadata": {
        "id": "VCfUT2fHxTwv"
      },
      "execution_count": null,
      "outputs": []
    }
  ]
}